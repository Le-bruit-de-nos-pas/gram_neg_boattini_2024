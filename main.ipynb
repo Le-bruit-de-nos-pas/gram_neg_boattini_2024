{
 "cells": [
  {
   "cell_type": "markdown",
   "metadata": {},
   "source": [
    "### Start"
   ]
  },
  {
   "cell_type": "code",
   "execution_count": 13,
   "metadata": {},
   "outputs": [],
   "source": [
    "import pandas as pd\n",
    "import numpy as np\n",
    "\n",
    "from scipy.stats import fisher_exact, mannwhitneyu\n",
    "\n",
    "import shap\n",
    "import xgboost\n",
    "import inspect\n",
    "\n",
    "from sklearn.preprocessing import StandardScaler\n",
    "from sklearn.decomposition import PCA\n",
    "import sklearn\n",
    "\n",
    "import matplotlib.pyplot as plt\n",
    "import seaborn as sns\n",
    "\n",
    "\n",
    "\n"
   ]
  },
  {
   "cell_type": "code",
   "execution_count": 14,
   "metadata": {},
   "outputs": [
    {
     "name": "stdout",
     "output_type": "stream",
     "text": [
      "    pat_id  STEMA  Achromobacter  Ochrobactrum  Aeromonas  Burkolderia  Other  \\\n",
      "0        1    NaN            1.0           NaN        NaN          NaN    NaN   \n",
      "1        2    NaN            1.0           NaN        NaN          NaN    NaN   \n",
      "2        3    NaN            1.0           NaN        NaN          NaN    NaN   \n",
      "3        4    NaN            NaN           1.0        NaN          NaN    NaN   \n",
      "4        5    NaN            NaN           NaN        NaN          1.0    NaN   \n",
      "..     ...    ...            ...           ...        ...          ...    ...   \n",
      "58      59    NaN            NaN           NaN        NaN          NaN    1.0   \n",
      "59      60    1.0            NaN           NaN        NaN          NaN    NaN   \n",
      "60      61    1.0            NaN           NaN        NaN          NaN    NaN   \n",
      "61      62    1.0            NaN           NaN        NaN          NaN    NaN   \n",
      "62      63    NaN            NaN           1.0        NaN          NaN    NaN   \n",
      "\n",
      "    Polymicrobial  Polymicrobial_Gram_neg  Polymicrobial_non_ferment  ...  \\\n",
      "0               0                     NaN                        NaN  ...   \n",
      "1               0                     NaN                        NaN  ...   \n",
      "2               0                     NaN                        NaN  ...   \n",
      "3               1                     NaN                        NaN  ...   \n",
      "4               0                     NaN                        NaN  ...   \n",
      "..            ...                     ...                        ...  ...   \n",
      "58              1                     NaN                        NaN  ...   \n",
      "59              0                     NaN                        NaN  ...   \n",
      "60              1                     1.0                        NaN  ...   \n",
      "61              1                     1.0                        NaN  ...   \n",
      "62              0                     NaN                        NaN  ...   \n",
      "\n",
      "    Colistin_including  T_S_including  Azitromicine_including  \\\n",
      "0                  NaN            NaN                     NaN   \n",
      "1                  1.0            NaN                     NaN   \n",
      "2                  NaN            NaN                     NaN   \n",
      "3                  NaN            NaN                     NaN   \n",
      "4                  NaN            NaN                     NaN   \n",
      "..                 ...            ...                     ...   \n",
      "58                 NaN            NaN                     NaN   \n",
      "59                 NaN            NaN                     NaN   \n",
      "60                 NaN            1.0                     NaN   \n",
      "61                 NaN            1.0                     NaN   \n",
      "62                 NaN            NaN                     NaN   \n",
      "\n",
      "    Metronidazole_including  Cefiderocol_including  BSI_relapse  \\\n",
      "0                       NaN                    NaN            0   \n",
      "1                       NaN                    NaN            0   \n",
      "2                       NaN                    NaN            0   \n",
      "3                       NaN                    NaN            0   \n",
      "4                       NaN                    NaN            0   \n",
      "..                      ...                    ...          ...   \n",
      "58                      NaN                    NaN            0   \n",
      "59                      NaN                    NaN            0   \n",
      "60                      NaN                    NaN            1   \n",
      "61                      NaN                    NaN            0   \n",
      "62                      NaN                    NaN            0   \n",
      "\n",
      "    Mortality_14_days  Mortality_30_days  Mortality_hospital  LOS_days  \n",
      "0                   0                  0                   0        17  \n",
      "1                   0                  0                   0       240  \n",
      "2                   0                  0                   0        45  \n",
      "3                   0                  0                   0         8  \n",
      "4                   0                  0                   0        18  \n",
      "..                ...                ...                 ...       ...  \n",
      "58                  0                  0                   0        17  \n",
      "59                  0                  0                   0        41  \n",
      "60                  0                  0                   0        65  \n",
      "61                  0                  0                   0        65  \n",
      "62                  0                  0                   0        60  \n",
      "\n",
      "[63 rows x 80 columns]\n",
      "pat_id\n",
      "STEMA\n",
      "Achromobacter\n",
      "Ochrobactrum\n",
      "Aeromonas\n",
      "Burkolderia\n",
      "Other\n",
      "Polymicrobial\n",
      "Polymicrobial_Gram_neg\n",
      "Polymicrobial_non_ferment\n",
      "Polymicrobial_MDR\n",
      "Polymicrobial_Gram_pos\n",
      "Polymicrobial_Fungi\n",
      "Positive_2culture_50perc\n",
      "Age\n",
      "Gender\n",
      "Medical\n",
      "Surgical\n",
      "Critically_ill\n",
      "Diabetes\n",
      "Cardiovasc_dis\n",
      "CKD\n",
      "Chron_resp_dis\n",
      "Chron_liver_dis\n",
      "Solid_neopl\n",
      "Haemat_neopl\n",
      "SOT\n",
      "HSCT\n",
      "Immunosuppressive_therapy\n",
      "Long_term_intraasc_dev\n",
      "Charlson_Index\n",
      "Trauma\n",
      "Resp_failure\n",
      "Cardiovasc_failure\n",
      "Liver_failure\n",
      "Renal_failure\n",
      "Sepsis\n",
      "Surgery\n",
      "Burn\n",
      "Stroke\n",
      "MDR_carrier\n",
      "Admission_to_BSI_days\n",
      "CVC_related\n",
      "Primary\n",
      "Resp_tract\n",
      "Urinary_tract\n",
      "Intra_abdominal\n",
      "Skin_infection\n",
      "ICU_admission\n",
      "PITT_score\n",
      "Infection_last_7_days\n",
      "Neutropenia\n",
      "Active_antibiotic_therapy_48h\n",
      "No_treatment\n",
      "Monotherapy\n",
      "Combination_therapy\n",
      "Amoxicillin_clavulanate_including\n",
      "Ceftriaxone_including\n",
      "Ceftazidime_including\n",
      "Cefepime_including\n",
      "Ceftobiprole_including\n",
      "C_A_including\n",
      "Fosfomycin_incluuding\n",
      "C_T_incluning\n",
      "Piperacillin_tazobactam_including\n",
      "Meropenem_including\n",
      "M_V\n",
      "Aminoglycoside_including\n",
      "Fluoroquinolone_including\n",
      "Tetracyclines_including\n",
      "Colistin_including\n",
      "T_S_including\n",
      "Azitromicine_including\n",
      "Metronidazole_including\n",
      "Cefiderocol_including\n",
      "BSI_relapse\n",
      "Mortality_14_days\n",
      "Mortality_30_days\n",
      "Mortality_hospital\n",
      "LOS_days\n"
     ]
    }
   ],
   "source": [
    "df = pd.read_csv('../data/neg_bacilli_turin_2024.txt', delimiter='\\t')\n",
    "print(df)\n",
    "for name in df.columns:\n",
    "    print(name)"
   ]
  },
  {
   "cell_type": "markdown",
   "metadata": {},
   "source": [
    "### Missing Data"
   ]
  },
  {
   "cell_type": "code",
   "execution_count": 15,
   "metadata": {},
   "outputs": [
    {
     "name": "stdout",
     "output_type": "stream",
     "text": [
      "Total missing # : 1704\n",
      "Total missing % : 33.80952380952381\n",
      "Total missing # : 0\n",
      "Total missing % : 0.0\n"
     ]
    }
   ],
   "source": [
    "print(\"Total missing # :\", df.isna().sum().sum())\n",
    "print(\"Total missing % :\", 100* df.isna().sum().sum() / (df.shape[0]*df.shape[1]) )\n",
    "df.fillna(0, inplace=True)\n",
    "print(\"Total missing # :\", df.isna().sum().sum())\n",
    "print(\"Total missing % :\", 100* df.isna().sum().sum() / (df.shape[0]*df.shape[1]) )"
   ]
  },
  {
   "cell_type": "markdown",
   "metadata": {},
   "source": [
    "### Summary Stats"
   ]
  },
  {
   "cell_type": "code",
   "execution_count": 16,
   "metadata": {},
   "outputs": [],
   "source": [
    "def calculate_se_proportion(p, n):\n",
    "    return np.sqrt((p * (1 - p)) / n).round(2)"
   ]
  },
  {
   "cell_type": "code",
   "execution_count": 19,
   "metadata": {},
   "outputs": [],
   "source": [
    "def create_summary_table(df):\n",
    "    \"\"\" Generate summary table.\n",
    "    Args:\n",
    "    df (DataFrame): The DataFrame for which to generate the summary table.\n",
    "    Returns:\n",
    "    DataFrame: The summary table.\"\"\"\n",
    "\n",
    "    # Generate summary statistics for ALL columns\n",
    "    summary_table = df.describe()\n",
    "    # Transpose the summary table\n",
    "    summary_table = summary_table.T\n",
    "    # Round all values to two decimal points\n",
    "    summary_table = summary_table.round(2)\n",
    "    # Create 'Mean ± Std' column\n",
    "    summary_table['Mean ± Std'] = summary_table.apply(lambda row: f\"{row['mean']} ± {row['std']}\", axis=1)\n",
    "    # Create 'Median [IQR]' column\n",
    "    summary_table['Median [IQR]'] = summary_table.apply(lambda row: f\"{row['50%']} [{row['25%']}-{row['75%']}]\", axis=1)\n",
    "    # Create 'Proportion ± SE' column\n",
    "    summary_table['Proportion ± SE'] = summary_table.apply(lambda row: f\"{row['mean']} ± {calculate_se_proportion(row['mean'], row['count'])}\", axis=1)\n",
    "    # Create 'SE_Error_Flag' column\n",
    "    summary_table['SE_Error_Flag'] = summary_table['Proportion ± SE'].apply(lambda row: 1 if 'nan' in str(row) else 0)\n",
    "    # Reset the index\n",
    "    summary_table.reset_index(inplace=True)\n",
    "    # Create 'Row_Number' column\n",
    "    summary_table['Row_Number'] = summary_table.index + 1\n",
    "    # Drop unnecessary columns\n",
    "    summary_table.drop(['count', 'mean', 'std', 'min', '25%', '50%', '75%', 'max'], axis=1, inplace=True)\n",
    "\n",
    "    return summary_table"
   ]
  },
  {
   "cell_type": "code",
   "execution_count": 32,
   "metadata": {},
   "outputs": [],
   "source": [
    "import pandas as pd\n",
    "\n",
    "def calculate_sum_and_percentage(df):\n",
    "    \"\"\" Calculate sum and percentage for each column.\n",
    "    Args:\n",
    "    df (DataFrame): The DataFrame for which to calculate the sum and percentage.\n",
    "    Returns:\n",
    "    DataFrame: A DataFrame with two columns: 'Column' for column names and 'Sum/Percentage' for their corresponding sum or percentage.\n",
    "    \"\"\"\n",
    "\n",
    "    result = []\n",
    "    \n",
    "    total_rows = len(df)\n",
    "    \n",
    "    for column in df.columns:\n",
    "        column_sum = df[column].sum()\n",
    "        percentage = (column_sum / total_rows) * 100\n",
    "        result.append([column, f\"{column_sum} ({percentage:.2f}%)\"])\n",
    "\n",
    "    return pd.DataFrame(result, columns=['Column', 'Sum/Percentage'])\n"
   ]
  },
  {
   "cell_type": "code",
   "execution_count": 20,
   "metadata": {},
   "outputs": [
    {
     "name": "stderr",
     "output_type": "stream",
     "text": [
      "C:\\Users\\pu.0580\\AppData\\Local\\Temp\\ipykernel_14884\\2192171520.py:2: RuntimeWarning: invalid value encountered in sqrt\n",
      "  return np.sqrt((p * (1 - p)) / n).round(2)\n"
     ]
    },
    {
     "data": {
      "text/html": [
       "<div>\n",
       "<style scoped>\n",
       "    .dataframe tbody tr th:only-of-type {\n",
       "        vertical-align: middle;\n",
       "    }\n",
       "\n",
       "    .dataframe tbody tr th {\n",
       "        vertical-align: top;\n",
       "    }\n",
       "\n",
       "    .dataframe thead th {\n",
       "        text-align: right;\n",
       "    }\n",
       "</style>\n",
       "<table border=\"1\" class=\"dataframe\">\n",
       "  <thead>\n",
       "    <tr style=\"text-align: right;\">\n",
       "      <th></th>\n",
       "      <th>index</th>\n",
       "      <th>Mean ± Std</th>\n",
       "      <th>Median [IQR]</th>\n",
       "      <th>Proportion ± SE</th>\n",
       "      <th>SE_Error_Flag</th>\n",
       "      <th>Row_Number</th>\n",
       "    </tr>\n",
       "  </thead>\n",
       "  <tbody>\n",
       "    <tr>\n",
       "      <th>0</th>\n",
       "      <td>pat_id</td>\n",
       "      <td>32.0 ± 18.33</td>\n",
       "      <td>32.0 [16.5-47.5]</td>\n",
       "      <td>32.0 ± nan</td>\n",
       "      <td>1</td>\n",
       "      <td>1</td>\n",
       "    </tr>\n",
       "    <tr>\n",
       "      <th>1</th>\n",
       "      <td>STEMA</td>\n",
       "      <td>0.49 ± 0.5</td>\n",
       "      <td>0.0 [0.0-1.0]</td>\n",
       "      <td>0.49 ± 0.06</td>\n",
       "      <td>0</td>\n",
       "      <td>2</td>\n",
       "    </tr>\n",
       "    <tr>\n",
       "      <th>2</th>\n",
       "      <td>Achromobacter</td>\n",
       "      <td>0.16 ± 0.37</td>\n",
       "      <td>0.0 [0.0-0.0]</td>\n",
       "      <td>0.16 ± 0.05</td>\n",
       "      <td>0</td>\n",
       "      <td>3</td>\n",
       "    </tr>\n",
       "    <tr>\n",
       "      <th>3</th>\n",
       "      <td>Ochrobactrum</td>\n",
       "      <td>0.1 ± 0.3</td>\n",
       "      <td>0.0 [0.0-0.0]</td>\n",
       "      <td>0.1 ± 0.04</td>\n",
       "      <td>0</td>\n",
       "      <td>4</td>\n",
       "    </tr>\n",
       "    <tr>\n",
       "      <th>4</th>\n",
       "      <td>Aeromonas</td>\n",
       "      <td>0.1 ± 0.3</td>\n",
       "      <td>0.0 [0.0-0.0]</td>\n",
       "      <td>0.1 ± 0.04</td>\n",
       "      <td>0</td>\n",
       "      <td>5</td>\n",
       "    </tr>\n",
       "    <tr>\n",
       "      <th>...</th>\n",
       "      <td>...</td>\n",
       "      <td>...</td>\n",
       "      <td>...</td>\n",
       "      <td>...</td>\n",
       "      <td>...</td>\n",
       "      <td>...</td>\n",
       "    </tr>\n",
       "    <tr>\n",
       "      <th>75</th>\n",
       "      <td>BSI_relapse</td>\n",
       "      <td>0.06 ± 0.25</td>\n",
       "      <td>0.0 [0.0-0.0]</td>\n",
       "      <td>0.06 ± 0.03</td>\n",
       "      <td>0</td>\n",
       "      <td>76</td>\n",
       "    </tr>\n",
       "    <tr>\n",
       "      <th>76</th>\n",
       "      <td>Mortality_14_days</td>\n",
       "      <td>0.06 ± 0.25</td>\n",
       "      <td>0.0 [0.0-0.0]</td>\n",
       "      <td>0.06 ± 0.03</td>\n",
       "      <td>0</td>\n",
       "      <td>77</td>\n",
       "    </tr>\n",
       "    <tr>\n",
       "      <th>77</th>\n",
       "      <td>Mortality_30_days</td>\n",
       "      <td>0.1 ± 0.3</td>\n",
       "      <td>0.0 [0.0-0.0]</td>\n",
       "      <td>0.1 ± 0.04</td>\n",
       "      <td>0</td>\n",
       "      <td>78</td>\n",
       "    </tr>\n",
       "    <tr>\n",
       "      <th>78</th>\n",
       "      <td>Mortality_hospital</td>\n",
       "      <td>0.16 ± 0.37</td>\n",
       "      <td>0.0 [0.0-0.0]</td>\n",
       "      <td>0.16 ± 0.05</td>\n",
       "      <td>0</td>\n",
       "      <td>79</td>\n",
       "    </tr>\n",
       "    <tr>\n",
       "      <th>79</th>\n",
       "      <td>LOS_days</td>\n",
       "      <td>61.83 ± 56.56</td>\n",
       "      <td>41.0 [19.5-72.0]</td>\n",
       "      <td>61.83 ± nan</td>\n",
       "      <td>1</td>\n",
       "      <td>80</td>\n",
       "    </tr>\n",
       "  </tbody>\n",
       "</table>\n",
       "<p>80 rows × 6 columns</p>\n",
       "</div>"
      ],
      "text/plain": [
       "                 index     Mean ± Std      Median [IQR] Proportion ± SE  \\\n",
       "0               pat_id   32.0 ± 18.33  32.0 [16.5-47.5]      32.0 ± nan   \n",
       "1                STEMA     0.49 ± 0.5     0.0 [0.0-1.0]     0.49 ± 0.06   \n",
       "2        Achromobacter    0.16 ± 0.37     0.0 [0.0-0.0]     0.16 ± 0.05   \n",
       "3         Ochrobactrum      0.1 ± 0.3     0.0 [0.0-0.0]      0.1 ± 0.04   \n",
       "4            Aeromonas      0.1 ± 0.3     0.0 [0.0-0.0]      0.1 ± 0.04   \n",
       "..                 ...            ...               ...             ...   \n",
       "75         BSI_relapse    0.06 ± 0.25     0.0 [0.0-0.0]     0.06 ± 0.03   \n",
       "76   Mortality_14_days    0.06 ± 0.25     0.0 [0.0-0.0]     0.06 ± 0.03   \n",
       "77   Mortality_30_days      0.1 ± 0.3     0.0 [0.0-0.0]      0.1 ± 0.04   \n",
       "78  Mortality_hospital    0.16 ± 0.37     0.0 [0.0-0.0]     0.16 ± 0.05   \n",
       "79            LOS_days  61.83 ± 56.56  41.0 [19.5-72.0]     61.83 ± nan   \n",
       "\n",
       "    SE_Error_Flag  Row_Number  \n",
       "0               1           1  \n",
       "1               0           2  \n",
       "2               0           3  \n",
       "3               0           4  \n",
       "4               0           5  \n",
       "..            ...         ...  \n",
       "75              0          76  \n",
       "76              0          77  \n",
       "77              0          78  \n",
       "78              0          79  \n",
       "79              1          80  \n",
       "\n",
       "[80 rows x 6 columns]"
      ]
     },
     "execution_count": 20,
     "metadata": {},
     "output_type": "execute_result"
    }
   ],
   "source": [
    "summary_table = create_summary_table(df)\n",
    "summary_table.to_csv('../data/summary_table.csv')\n",
    "summary_table"
   ]
  },
  {
   "cell_type": "code",
   "execution_count": 33,
   "metadata": {},
   "outputs": [
    {
     "data": {
      "text/html": [
       "<div>\n",
       "<style scoped>\n",
       "    .dataframe tbody tr th:only-of-type {\n",
       "        vertical-align: middle;\n",
       "    }\n",
       "\n",
       "    .dataframe tbody tr th {\n",
       "        vertical-align: top;\n",
       "    }\n",
       "\n",
       "    .dataframe thead th {\n",
       "        text-align: right;\n",
       "    }\n",
       "</style>\n",
       "<table border=\"1\" class=\"dataframe\">\n",
       "  <thead>\n",
       "    <tr style=\"text-align: right;\">\n",
       "      <th></th>\n",
       "      <th>Column</th>\n",
       "      <th>Sum/Percentage</th>\n",
       "    </tr>\n",
       "  </thead>\n",
       "  <tbody>\n",
       "    <tr>\n",
       "      <th>0</th>\n",
       "      <td>pat_id</td>\n",
       "      <td>2016 (3200.00%)</td>\n",
       "    </tr>\n",
       "    <tr>\n",
       "      <th>1</th>\n",
       "      <td>STEMA</td>\n",
       "      <td>31.0 (49.21%)</td>\n",
       "    </tr>\n",
       "    <tr>\n",
       "      <th>2</th>\n",
       "      <td>Achromobacter</td>\n",
       "      <td>10.0 (15.87%)</td>\n",
       "    </tr>\n",
       "    <tr>\n",
       "      <th>3</th>\n",
       "      <td>Ochrobactrum</td>\n",
       "      <td>6.0 (9.52%)</td>\n",
       "    </tr>\n",
       "    <tr>\n",
       "      <th>4</th>\n",
       "      <td>Aeromonas</td>\n",
       "      <td>6.0 (9.52%)</td>\n",
       "    </tr>\n",
       "    <tr>\n",
       "      <th>...</th>\n",
       "      <td>...</td>\n",
       "      <td>...</td>\n",
       "    </tr>\n",
       "    <tr>\n",
       "      <th>75</th>\n",
       "      <td>BSI_relapse</td>\n",
       "      <td>4 (6.35%)</td>\n",
       "    </tr>\n",
       "    <tr>\n",
       "      <th>76</th>\n",
       "      <td>Mortality_14_days</td>\n",
       "      <td>4 (6.35%)</td>\n",
       "    </tr>\n",
       "    <tr>\n",
       "      <th>77</th>\n",
       "      <td>Mortality_30_days</td>\n",
       "      <td>6 (9.52%)</td>\n",
       "    </tr>\n",
       "    <tr>\n",
       "      <th>78</th>\n",
       "      <td>Mortality_hospital</td>\n",
       "      <td>10 (15.87%)</td>\n",
       "    </tr>\n",
       "    <tr>\n",
       "      <th>79</th>\n",
       "      <td>LOS_days</td>\n",
       "      <td>3895 (6182.54%)</td>\n",
       "    </tr>\n",
       "  </tbody>\n",
       "</table>\n",
       "<p>80 rows × 2 columns</p>\n",
       "</div>"
      ],
      "text/plain": [
       "                Column   Sum/Percentage\n",
       "0               pat_id  2016 (3200.00%)\n",
       "1                STEMA    31.0 (49.21%)\n",
       "2        Achromobacter    10.0 (15.87%)\n",
       "3         Ochrobactrum      6.0 (9.52%)\n",
       "4            Aeromonas      6.0 (9.52%)\n",
       "..                 ...              ...\n",
       "75         BSI_relapse        4 (6.35%)\n",
       "76   Mortality_14_days        4 (6.35%)\n",
       "77   Mortality_30_days        6 (9.52%)\n",
       "78  Mortality_hospital      10 (15.87%)\n",
       "79            LOS_days  3895 (6182.54%)\n",
       "\n",
       "[80 rows x 2 columns]"
      ]
     },
     "execution_count": 33,
     "metadata": {},
     "output_type": "execute_result"
    }
   ],
   "source": [
    "summary_table = calculate_sum_and_percentage(df)\n",
    "summary_table.to_csv('../data/summary_table.csv')\n",
    "summary_table"
   ]
  },
  {
   "cell_type": "code",
   "execution_count": 34,
   "metadata": {},
   "outputs": [
    {
     "data": {
      "text/html": [
       "<div>\n",
       "<style scoped>\n",
       "    .dataframe tbody tr th:only-of-type {\n",
       "        vertical-align: middle;\n",
       "    }\n",
       "\n",
       "    .dataframe tbody tr th {\n",
       "        vertical-align: top;\n",
       "    }\n",
       "\n",
       "    .dataframe thead th {\n",
       "        text-align: right;\n",
       "    }\n",
       "</style>\n",
       "<table border=\"1\" class=\"dataframe\">\n",
       "  <thead>\n",
       "    <tr style=\"text-align: right;\">\n",
       "      <th></th>\n",
       "      <th>Column</th>\n",
       "      <th>Sum/Percentage</th>\n",
       "    </tr>\n",
       "  </thead>\n",
       "  <tbody>\n",
       "    <tr>\n",
       "      <th>0</th>\n",
       "      <td>pat_id</td>\n",
       "      <td>2016 (3200.00%)</td>\n",
       "    </tr>\n",
       "    <tr>\n",
       "      <th>1</th>\n",
       "      <td>STEMA</td>\n",
       "      <td>31.0 (49.21%)</td>\n",
       "    </tr>\n",
       "    <tr>\n",
       "      <th>2</th>\n",
       "      <td>Achromobacter</td>\n",
       "      <td>10.0 (15.87%)</td>\n",
       "    </tr>\n",
       "    <tr>\n",
       "      <th>3</th>\n",
       "      <td>Ochrobactrum</td>\n",
       "      <td>6.0 (9.52%)</td>\n",
       "    </tr>\n",
       "    <tr>\n",
       "      <th>4</th>\n",
       "      <td>Aeromonas</td>\n",
       "      <td>6.0 (9.52%)</td>\n",
       "    </tr>\n",
       "    <tr>\n",
       "      <th>...</th>\n",
       "      <td>...</td>\n",
       "      <td>...</td>\n",
       "    </tr>\n",
       "    <tr>\n",
       "      <th>75</th>\n",
       "      <td>BSI_relapse</td>\n",
       "      <td>4 (6.35%)</td>\n",
       "    </tr>\n",
       "    <tr>\n",
       "      <th>76</th>\n",
       "      <td>Mortality_14_days</td>\n",
       "      <td>4 (6.35%)</td>\n",
       "    </tr>\n",
       "    <tr>\n",
       "      <th>77</th>\n",
       "      <td>Mortality_30_days</td>\n",
       "      <td>6 (9.52%)</td>\n",
       "    </tr>\n",
       "    <tr>\n",
       "      <th>78</th>\n",
       "      <td>Mortality_hospital</td>\n",
       "      <td>10 (15.87%)</td>\n",
       "    </tr>\n",
       "    <tr>\n",
       "      <th>79</th>\n",
       "      <td>LOS_days</td>\n",
       "      <td>3895 (6182.54%)</td>\n",
       "    </tr>\n",
       "  </tbody>\n",
       "</table>\n",
       "<p>80 rows × 2 columns</p>\n",
       "</div>"
      ],
      "text/plain": [
       "                Column   Sum/Percentage\n",
       "0               pat_id  2016 (3200.00%)\n",
       "1                STEMA    31.0 (49.21%)\n",
       "2        Achromobacter    10.0 (15.87%)\n",
       "3         Ochrobactrum      6.0 (9.52%)\n",
       "4            Aeromonas      6.0 (9.52%)\n",
       "..                 ...              ...\n",
       "75         BSI_relapse        4 (6.35%)\n",
       "76   Mortality_14_days        4 (6.35%)\n",
       "77   Mortality_30_days        6 (9.52%)\n",
       "78  Mortality_hospital      10 (15.87%)\n",
       "79            LOS_days  3895 (6182.54%)\n",
       "\n",
       "[80 rows x 2 columns]"
      ]
     },
     "execution_count": 34,
     "metadata": {},
     "output_type": "execute_result"
    }
   ],
   "source": [
    "summary_table"
   ]
  },
  {
   "cell_type": "markdown",
   "metadata": {},
   "source": [
    "### Summary Stats + Fisher's Exat Test | Wilcoxon/Mann-Whitney Test"
   ]
  },
  {
   "cell_type": "markdown",
   "metadata": {},
   "source": [
    "### Positive >2 cultures  || +50%"
   ]
  },
  {
   "cell_type": "code",
   "execution_count": null,
   "metadata": {},
   "outputs": [],
   "source": [
    "df_cult_pos = df[df['Positive_2culture_50perc'] == 1] # 43 out of 63\n",
    "summary_table = create_summary_table(df_cult_pos)\n",
    "summary_table.to_csv('../data/summary_table_cult_pos.csv')"
   ]
  },
  {
   "cell_type": "code",
   "execution_count": 35,
   "metadata": {},
   "outputs": [],
   "source": [
    "df_cult_pos = df[df['Positive_2culture_50perc'] == 1] # 43 out of 63\n",
    "summary_table = calculate_sum_and_percentage(df_cult_pos)\n",
    "summary_table.to_csv('../data/summary_table_cult_pos.csv')"
   ]
  },
  {
   "cell_type": "code",
   "execution_count": null,
   "metadata": {},
   "outputs": [],
   "source": [
    "df_cult_neg = df[df['Positive_2culture_50perc'] == 0] # 20 out of 63\n",
    "summary_table = create_summary_table(df_cult_neg)\n",
    "summary_table.to_csv('../data/summary_table_cult_neg.csv')"
   ]
  },
  {
   "cell_type": "code",
   "execution_count": 36,
   "metadata": {},
   "outputs": [],
   "source": [
    "df_cult_neg = df[df['Positive_2culture_50perc'] == 0] # 20 out of 63\n",
    "summary_table = calculate_sum_and_percentage(df_cult_neg)\n",
    "summary_table.to_csv('../data/summary_table_cult_neg.csv')"
   ]
  },
  {
   "cell_type": "code",
   "execution_count": null,
   "metadata": {},
   "outputs": [],
   "source": [
    "exclude_cols = ['Positive_2culture_50perc', 'pat_id']\n",
    "binary_results = []\n",
    "numeric_results = []"
   ]
  },
  {
   "cell_type": "code",
   "execution_count": null,
   "metadata": {},
   "outputs": [],
   "source": [
    "for col in df.columns:\n",
    "    if col not in exclude_cols:\n",
    "        if df[col].nunique() <= 2:\n",
    "            filtered_col = df[col].dropna().astype(int)\n",
    "            if filtered_col.nunique() == 2:\n",
    "                contingency_table = pd.crosstab(df['Positive_2culture_50perc'], filtered_col)\n",
    "                odds_ratio , p_value = fisher_exact(contingency_table)\n",
    "                binary_results.append((col, odds_ratio, p_value))\n",
    "            else:\n",
    "                print(f\"Warning: Colunm '{col}' does not exactly 2 unique values. Dropping it...\" )\n",
    "        else:\n",
    "            group_1 = df[df['Positive_2culture_50perc'] == 1][col]\n",
    "            group_2 = df[df['Positive_2culture_50perc'] == 0][col]\n",
    "            _ , p_value = mannwhitneyu(group_1, group_2, alternative='two-sided')\n",
    "            numeric_results.append((col, p_value))"
   ]
  },
  {
   "cell_type": "code",
   "execution_count": null,
   "metadata": {},
   "outputs": [],
   "source": [
    "print(\"Numeric Variables (Wilcoxon/Mann-Whitney Test): \")\n",
    "for result in numeric_results:\n",
    "    print(f\"{result[0]} , p-value: {result[1]}\" )"
   ]
  },
  {
   "cell_type": "code",
   "execution_count": null,
   "metadata": {},
   "outputs": [],
   "source": [
    "print(\"Binary Variables (Fisher's Exact Test): \")\n",
    "for result in binary_results:\n",
    "    print(f\"{result[0]} - Odds Ratio: {result[1]}, p-value: {result[2]}\" )"
   ]
  },
  {
   "cell_type": "markdown",
   "metadata": {},
   "source": [
    "### In-Hospital Mortality"
   ]
  },
  {
   "cell_type": "markdown",
   "metadata": {},
   "source": [
    "### Summary Stats + Fisher's Exat Test | Wilcoxon/Mann-Whitney Test"
   ]
  },
  {
   "cell_type": "code",
   "execution_count": null,
   "metadata": {},
   "outputs": [],
   "source": [
    "df_hosp_mort_pos = df[df['Mortality_hospital'] == 1] # 10 out of 63\n",
    "summary_table = create_summary_table(df_hosp_mort_pos)\n",
    "summary_table.to_csv('../data/summary_table_hosp_mort_pos.csv')"
   ]
  },
  {
   "cell_type": "code",
   "execution_count": 37,
   "metadata": {},
   "outputs": [],
   "source": [
    "df_hosp_mort_pos = df[df['Mortality_hospital'] == 1] # 10 out of 63\n",
    "summary_table = calculate_sum_and_percentage(df_hosp_mort_pos)\n",
    "summary_table.to_csv('../data/summary_table_hosp_mort_pos.csv')"
   ]
  },
  {
   "cell_type": "code",
   "execution_count": null,
   "metadata": {},
   "outputs": [],
   "source": [
    "df_hosp_mort_neg = df[df['Mortality_hospital'] == 0] # 53 out of 63\n",
    "summary_table = create_summary_table(df_hosp_mort_neg)\n",
    "summary_table.to_csv('../data/summary_table_hosp_mort_neg.csv')"
   ]
  },
  {
   "cell_type": "code",
   "execution_count": 38,
   "metadata": {},
   "outputs": [],
   "source": [
    "df_hosp_mort_neg = df[df['Mortality_hospital'] == 0] # 53 out of 63\n",
    "summary_table = calculate_sum_and_percentage(df_hosp_mort_neg)\n",
    "summary_table.to_csv('../data/summary_table_hosp_mort_neg.csv')"
   ]
  },
  {
   "cell_type": "code",
   "execution_count": null,
   "metadata": {},
   "outputs": [],
   "source": [
    "exclude_cols = ['Mortality_hospital', 'pat_id', 'Amoxicillin_clavulanate_including', 'Metronidazole_including', 'Mortality_30_days', 'Mortality_14_days']\n",
    "binary_results = []\n",
    "numeric_results = []"
   ]
  },
  {
   "cell_type": "code",
   "execution_count": null,
   "metadata": {},
   "outputs": [],
   "source": [
    "for col in df.columns:\n",
    "    if col not in exclude_cols:\n",
    "        if df[col].nunique() <= 2:\n",
    "            filtered_col = df[col].dropna().astype(int)\n",
    "            if filtered_col.nunique() == 2:\n",
    "                contingency_table = pd.crosstab(df['Mortality_hospital'], filtered_col)\n",
    "                odds_ratio , p_value = fisher_exact(contingency_table)\n",
    "                binary_results.append((col, odds_ratio, p_value))\n",
    "            else:\n",
    "                print(f\"Warning: Colunm '{col}' does not exactly 2 unique values. Dropping it...\" )\n",
    "        else:\n",
    "            group_1 = df[df['Mortality_hospital'] == 1][col]\n",
    "            group_2 = df[df['Mortality_hospital'] == 0][col]\n",
    "            _ , p_value = mannwhitneyu(group_1, group_2, alternative='two-sided')\n",
    "            numeric_results.append((col, p_value))"
   ]
  },
  {
   "cell_type": "code",
   "execution_count": null,
   "metadata": {},
   "outputs": [],
   "source": [
    "print(\"Numeric Variables (Wilcoxon/Mann-Whitney Test): \")\n",
    "for result in numeric_results:\n",
    "    print(f\"{result[0]} , p-value: {result[1]}\" )"
   ]
  },
  {
   "cell_type": "code",
   "execution_count": null,
   "metadata": {},
   "outputs": [],
   "source": [
    "print(\"Binary Variables (Fisher's Exact Test): \")\n",
    "for result in binary_results:\n",
    "    print(f\"{result[0]} - Odds Ratio: {result[1]}, p-value: {result[2]}\" )"
   ]
  },
  {
   "cell_type": "markdown",
   "metadata": {},
   "source": [
    "### Model: XGBoost"
   ]
  },
  {
   "cell_type": "code",
   "execution_count": null,
   "metadata": {},
   "outputs": [],
   "source": [
    "df = pd.read_csv('../data/neg_bacilli_turin_2024.txt', delimiter='\\t')\n",
    "df.fillna(0, inplace=True)"
   ]
  },
  {
   "cell_type": "code",
   "execution_count": null,
   "metadata": {},
   "outputs": [],
   "source": [
    "# columns_to_drop = ['pat_id', 'Amoxicillin_clavulanate_including', 'Metronidazole_including', 'Mortality_30_days', 'Mortality_14_days']\n",
    "columns_to_drop = ['pat_id', 'Amoxicillin_clavulanate_including', 'Metronidazole_including', 'Mortality_30_days', 'Mortality_14_days', 'LOS_days']\n",
    "df = df.drop(columns=columns_to_drop)"
   ]
  },
  {
   "cell_type": "code",
   "execution_count": null,
   "metadata": {},
   "outputs": [],
   "source": [
    "y = df['Mortality_hospital']\n",
    "X = df.drop(columns=['Mortality_hospital'])\n"
   ]
  },
  {
   "cell_type": "code",
   "execution_count": null,
   "metadata": {},
   "outputs": [],
   "source": [
    "X100 = shap.utils.sample(X, 100)"
   ]
  },
  {
   "cell_type": "code",
   "execution_count": null,
   "metadata": {},
   "outputs": [],
   "source": [
    "df.shape"
   ]
  },
  {
   "cell_type": "code",
   "execution_count": null,
   "metadata": {},
   "outputs": [],
   "source": [
    "y[y==1]"
   ]
  },
  {
   "cell_type": "code",
   "execution_count": null,
   "metadata": {},
   "outputs": [],
   "source": [
    "model = xgboost.XGBClassifier(nestimators=100, max_depth=2, objective = \"binary:logistic\").fit(X, y)\n",
    "explainer = shap.Explainer(model, X)\n",
    "shap_values = explainer(X)"
   ]
  },
  {
   "cell_type": "code",
   "execution_count": null,
   "metadata": {},
   "outputs": [],
   "source": [
    "shap_values.display_data = X.values"
   ]
  },
  {
   "cell_type": "code",
   "execution_count": null,
   "metadata": {},
   "outputs": [],
   "source": [
    "shap.initjs()\n",
    "shap.force_plot(shap_values[10])\n"
   ]
  },
  {
   "cell_type": "code",
   "execution_count": null,
   "metadata": {},
   "outputs": [],
   "source": [
    "shap.force_plot(shap_values[11])\n"
   ]
  },
  {
   "cell_type": "code",
   "execution_count": null,
   "metadata": {},
   "outputs": [],
   "source": [
    "shap.force_plot(shap_values[14])\n"
   ]
  },
  {
   "cell_type": "code",
   "execution_count": null,
   "metadata": {},
   "outputs": [],
   "source": [
    "shap.force_plot(shap_values[41])\n"
   ]
  },
  {
   "cell_type": "code",
   "execution_count": null,
   "metadata": {},
   "outputs": [],
   "source": [
    "shap.force_plot(shap_values[42])\n"
   ]
  },
  {
   "cell_type": "code",
   "execution_count": null,
   "metadata": {},
   "outputs": [],
   "source": [
    "shap.force_plot(shap_values[36])\n"
   ]
  },
  {
   "cell_type": "code",
   "execution_count": null,
   "metadata": {},
   "outputs": [],
   "source": [
    "shap.force_plot(shap_values[35])\n"
   ]
  },
  {
   "cell_type": "code",
   "execution_count": null,
   "metadata": {},
   "outputs": [],
   "source": [
    "shap.force_plot(shap_values[2])\n",
    "\n"
   ]
  },
  {
   "cell_type": "code",
   "execution_count": null,
   "metadata": {},
   "outputs": [],
   "source": [
    "shap.force_plot(shap_values[3])\n"
   ]
  },
  {
   "cell_type": "code",
   "execution_count": null,
   "metadata": {},
   "outputs": [],
   "source": [
    "shap.force_plot(shap_values[5])\n"
   ]
  },
  {
   "cell_type": "code",
   "execution_count": null,
   "metadata": {},
   "outputs": [],
   "source": [
    "shap.force_plot(shap_values[50])\n"
   ]
  },
  {
   "cell_type": "code",
   "execution_count": null,
   "metadata": {},
   "outputs": [],
   "source": [
    "shap.force_plot(shap_values[60])\n"
   ]
  },
  {
   "cell_type": "code",
   "execution_count": null,
   "metadata": {},
   "outputs": [],
   "source": [
    "shap.force_plot(shap_values[27])\n"
   ]
  },
  {
   "cell_type": "code",
   "execution_count": null,
   "metadata": {},
   "outputs": [],
   "source": [
    "shap.plots.bar(shap_values)\n"
   ]
  },
  {
   "cell_type": "code",
   "execution_count": null,
   "metadata": {},
   "outputs": [],
   "source": [
    "shap.plots.bar(shap_values.abs.max(0))\n"
   ]
  },
  {
   "cell_type": "code",
   "execution_count": null,
   "metadata": {},
   "outputs": [],
   "source": [
    "shap.plots.beeswarm(shap_values)\n"
   ]
  },
  {
   "cell_type": "code",
   "execution_count": null,
   "metadata": {},
   "outputs": [],
   "source": [
    "shap.plots.beeswarm(shap_values.abs, color=\"shap_red\")"
   ]
  },
  {
   "cell_type": "code",
   "execution_count": null,
   "metadata": {},
   "outputs": [],
   "source": [
    "shap.plots.heatmap(shap_values, max_display=10, plot_width=8)"
   ]
  },
  {
   "cell_type": "markdown",
   "metadata": {},
   "source": [
    "### Principal Component Analysis"
   ]
  },
  {
   "cell_type": "code",
   "execution_count": null,
   "metadata": {},
   "outputs": [],
   "source": [
    "df = pd.read_csv('../data/neg_bacilli_turin_2024.txt', delimiter='\\t')\n",
    "df.fillna(0, inplace=True)\n"
   ]
  },
  {
   "cell_type": "code",
   "execution_count": null,
   "metadata": {},
   "outputs": [],
   "source": [
    "columns_to_drop = ['pat_id', 'Amoxicillin_clavulanate_including', 'Metronidazole_including', 'Mortality_14_days', 'Mortality_30_days', 'LOS_days']\n",
    "df = df.drop(columns=columns_to_drop)"
   ]
  },
  {
   "cell_type": "code",
   "execution_count": null,
   "metadata": {},
   "outputs": [],
   "source": [
    "numerical_features = df.select_dtypes(include=['float64', 'int64'])\n",
    "numerical_features = numerical_features.drop(columns=['Mortality_hospital'])\n",
    "\n",
    "binary_numerical_features = [col for col in numerical_features.columns if numerical_features[col].nunique() == 2]\n",
    "\n",
    "non_binary_numerical_features = numerical_features.drop(columns=binary_numerical_features)\n",
    "\n",
    "scaler = StandardScaler()\n",
    "scaled_numerical_features = scaler.fit_transform(numerical_features)"
   ]
  },
  {
   "cell_type": "code",
   "execution_count": null,
   "metadata": {},
   "outputs": [],
   "source": [
    "df[numerical_features.columns] = scaled_numerical_features"
   ]
  },
  {
   "cell_type": "code",
   "execution_count": null,
   "metadata": {},
   "outputs": [],
   "source": [
    "df.shape"
   ]
  },
  {
   "cell_type": "code",
   "execution_count": null,
   "metadata": {},
   "outputs": [],
   "source": [
    "numerical_features = df.drop(columns=['Mortality_hospital']).select_dtypes(include=['float64', 'int64'])\n",
    "numerical_features.shape"
   ]
  },
  {
   "cell_type": "code",
   "execution_count": null,
   "metadata": {},
   "outputs": [],
   "source": [
    "pca = PCA(n_components=0.90) \n",
    "pca.fit(numerical_features)\n"
   ]
  },
  {
   "cell_type": "code",
   "execution_count": null,
   "metadata": {},
   "outputs": [],
   "source": [
    "principal_components = pca.transform(numerical_features)\n",
    "principal_components_df = pd.DataFrame(data=principal_components, \n",
    "                                       columns=[f'PC{i}' for i in range(1, pca.n_components_ + 1)])\n"
   ]
  },
  {
   "cell_type": "code",
   "execution_count": null,
   "metadata": {},
   "outputs": [],
   "source": [
    "loadings = pca.components_\n",
    "loadings_df = pd.DataFrame(loadings, columns=numerical_features.columns)\n"
   ]
  },
  {
   "cell_type": "code",
   "execution_count": null,
   "metadata": {},
   "outputs": [],
   "source": [
    "for i, component in enumerate(loadings_df.iterrows(), start=1):\n",
    "    print(f\"Principal Component {i} Loadings:\")\n",
    "    print(component)\n",
    "    print(\"\\n\")"
   ]
  },
  {
   "cell_type": "code",
   "execution_count": null,
   "metadata": {},
   "outputs": [],
   "source": [
    "loadings_df.index = loadings_df.index + 1"
   ]
  },
  {
   "cell_type": "code",
   "execution_count": null,
   "metadata": {},
   "outputs": [],
   "source": [
    "plt.figure(figsize=(9, 16))\n",
    "sns.heatmap(loadings_df.T, cmap='RdGy', annot=False, fmt=\".1f\", cbar=True)\n",
    "plt.title('Principal Component Loadings')\n",
    "plt.xlabel(None)  \n",
    "plt.ylabel(None)  \n",
    "plt.show()"
   ]
  },
  {
   "cell_type": "code",
   "execution_count": null,
   "metadata": {},
   "outputs": [],
   "source": [
    "cumulative_variance_ratio = np.cumsum(pca.explained_variance_ratio_)\n",
    "\n",
    "\n",
    "plt.figure(figsize=(10, 6))\n",
    "plt.plot(range(len(cumulative_variance_ratio)), cumulative_variance_ratio, marker='o', linestyle='-', color='black', markerfacecolor='none')\n",
    "plt.title('Cumulative Explained Variance Ratio')\n",
    "plt.xlabel('Number of Principal Components')\n",
    "plt.ylabel('Cumulative Explained Variance Ratio')\n",
    "plt.xticks(range(len(cumulative_variance_ratio)), range(1, len(cumulative_variance_ratio) + 1))\n",
    "plt.yticks(np.arange(0, 1.1, 0.1))  # Start y-axis from 0 and include increments of 0.1\n",
    "plt.grid(False)\n",
    "plt.show()\n"
   ]
  },
  {
   "cell_type": "code",
   "execution_count": null,
   "metadata": {},
   "outputs": [],
   "source": [
    "principal_components_df"
   ]
  },
  {
   "cell_type": "code",
   "execution_count": null,
   "metadata": {},
   "outputs": [],
   "source": [
    "y = df['Mortality_hospital']\n",
    "\n",
    "correlation_with_y = principal_components_df.apply(lambda col: col.corr(y))\n"
   ]
  },
  {
   "cell_type": "code",
   "execution_count": null,
   "metadata": {},
   "outputs": [],
   "source": [
    "correlation_with_y_sorted = correlation_with_y.abs().sort_values(ascending=False)\n"
   ]
  },
  {
   "cell_type": "code",
   "execution_count": null,
   "metadata": {},
   "outputs": [],
   "source": [
    "print(\"Correlation with Output Variable (Absolute Values):\")\n",
    "print(correlation_with_y_sorted)"
   ]
  },
  {
   "cell_type": "code",
   "execution_count": null,
   "metadata": {},
   "outputs": [],
   "source": [
    "pca_with_y = pd.concat([principal_components_df, y], axis=1)\n"
   ]
  },
  {
   "cell_type": "code",
   "execution_count": null,
   "metadata": {},
   "outputs": [],
   "source": [
    "mean_loadings_by_y = pca_with_y.groupby('Mortality_hospital').mean()\n"
   ]
  },
  {
   "cell_type": "code",
   "execution_count": null,
   "metadata": {},
   "outputs": [],
   "source": [
    "print(\"Mean Loadings by Output Variable Group:\")\n",
    "print(mean_loadings_by_y)"
   ]
  },
  {
   "cell_type": "code",
   "execution_count": null,
   "metadata": {},
   "outputs": [],
   "source": [
    "mean_loadings_by_y.index = mean_loadings_by_y.index.map({0: 'No', 1: 'Yes'})\n",
    "\n",
    "\n",
    "plt.figure(figsize=(25, 1))\n",
    "sns.heatmap(mean_loadings_by_y, cmap='RdGy', annot=True, fmt=\".1f\", cbar=True)\n",
    "plt.title('Mean Loadings by In-hospital Mortality Status')\n",
    "plt.xlabel('Principal Components')\n",
    "plt.ylabel('In-hospital Mortality')\n",
    "plt.show()"
   ]
  },
  {
   "cell_type": "code",
   "execution_count": null,
   "metadata": {},
   "outputs": [],
   "source": [
    "top_features_by_pc = {}\n",
    "\n",
    "for pc in loadings_df.index:\n",
    "    top_features_by_pc[pc] = loadings_df.loc[pc].abs().nlargest(5).index.tolist()\n",
    "\n",
    "for pc, features in top_features_by_pc.items():\n",
    "    print(f\"Principal Component {pc}: {features}\")\n"
   ]
  }
 ],
 "metadata": {
  "kernelspec": {
   "display_name": "venv",
   "language": "python",
   "name": "python3"
  },
  "language_info": {
   "codemirror_mode": {
    "name": "ipython",
    "version": 3
   },
   "file_extension": ".py",
   "mimetype": "text/x-python",
   "name": "python",
   "nbconvert_exporter": "python",
   "pygments_lexer": "ipython3",
   "version": "3.12.1"
  }
 },
 "nbformat": 4,
 "nbformat_minor": 2
}
